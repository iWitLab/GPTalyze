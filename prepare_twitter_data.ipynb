{
 "cells": [
  {
   "cell_type": "code",
   "execution_count": 1,
   "id": "initial_id",
   "metadata": {
    "tags": []
   },
   "outputs": [
    {
     "name": "stderr",
     "output_type": "stream",
     "text": [
      "C:\\Users\\user\\.conda\\envs\\chatgpt\\lib\\site-packages\\numpy\\_distributor_init.py:30: UserWarning: loaded more than 1 DLL from .libs:\n",
      "C:\\Users\\user\\.conda\\envs\\chatgpt\\lib\\site-packages\\numpy\\.libs\\libopenblas.XWYDX2IKJW2NMTWSFYNGFUWKQU3LYTCZ.gfortran-win_amd64.dll\n",
      "C:\\Users\\user\\.conda\\envs\\chatgpt\\lib\\site-packages\\numpy\\.libs\\libopenblas64__v0.3.21-gcc_10_3_0.dll\n",
      "  warnings.warn(\"loaded more than 1 DLL from .libs:\"\n"
     ]
    }
   ],
   "source": [
    "import os\n",
    "import numpy as np\n",
    "import pandas as pd\n",
    "from twarc import Twarc2\n",
    "import re\n",
    "import copy\n",
    "import spacy\n",
    "from spacy.lang.en import stop_words\n",
    "from pysentimiento.preprocessing import preprocess_tweet"
   ]
  },
  {
   "cell_type": "code",
   "execution_count": 2,
   "id": "a87b029f-12f8-4926-bc2b-3f67b0085ee9",
   "metadata": {},
   "outputs": [],
   "source": [
    "data_root_dir_path = r\"C:\\Users\\user\\Datasets\\Twitter\""
   ]
  },
  {
   "cell_type": "markdown",
   "id": "20fc1808-f4ab-4da8-83ca-c7bd010aea3e",
   "metadata": {},
   "source": [
    "## Get Twitter data from Twitter API using hydration (if original Tweet text is not available)"
   ]
  },
  {
   "cell_type": "code",
   "execution_count": 29,
   "id": "968f8514-9465-4ddb-8e13-45f2088ac68b",
   "metadata": {},
   "outputs": [],
   "source": [
    "tweet_id_file = \"\" # Name of dataset with Tweet IDs (csv format)"
   ]
  },
  {
   "cell_type": "code",
   "execution_count": 30,
   "id": "0ceb4bff-e394-49e7-888d-f9e2ca078105",
   "metadata": {},
   "outputs": [],
   "source": [
    "tweet_ids_to_hydrate = pd.read_csv(os.path.join(data_root_dir_path,tweet_id_file ), delimiter='\\t')"
   ]
  },
  {
   "cell_type": "code",
   "execution_count": 31,
   "id": "2244334a-6130-4a90-b7cb-1d04438f8bed",
   "metadata": {},
   "outputs": [
    {
     "data": {
      "text/html": [
       "<div>\n",
       "<style scoped>\n",
       "    .dataframe tbody tr th:only-of-type {\n",
       "        vertical-align: middle;\n",
       "    }\n",
       "\n",
       "    .dataframe tbody tr th {\n",
       "        vertical-align: top;\n",
       "    }\n",
       "\n",
       "    .dataframe thead th {\n",
       "        text-align: right;\n",
       "    }\n",
       "</style>\n",
       "<table border=\"1\" class=\"dataframe\">\n",
       "  <thead>\n",
       "    <tr style=\"text-align: right;\">\n",
       "      <th></th>\n",
       "      <th>tweet_id</th>\n",
       "      <th>date</th>\n",
       "      <th>time</th>\n",
       "    </tr>\n",
       "  </thead>\n",
       "  <tbody>\n",
       "    <tr>\n",
       "      <th>0</th>\n",
       "      <td>1243388154213588996</td>\n",
       "      <td>2020-3-27</td>\n",
       "      <td>4:3:31</td>\n",
       "    </tr>\n",
       "    <tr>\n",
       "      <th>1</th>\n",
       "      <td>1243388154385580034</td>\n",
       "      <td>2020-3-27</td>\n",
       "      <td>4:3:31</td>\n",
       "    </tr>\n",
       "    <tr>\n",
       "      <th>2</th>\n",
       "      <td>1243388154490392577</td>\n",
       "      <td>2020-3-27</td>\n",
       "      <td>4:3:31</td>\n",
       "    </tr>\n",
       "    <tr>\n",
       "      <th>3</th>\n",
       "      <td>1243388154582716422</td>\n",
       "      <td>2020-3-27</td>\n",
       "      <td>4:3:31</td>\n",
       "    </tr>\n",
       "    <tr>\n",
       "      <th>4</th>\n",
       "      <td>1243388154737901571</td>\n",
       "      <td>2020-3-27</td>\n",
       "      <td>4:3:31</td>\n",
       "    </tr>\n",
       "  </tbody>\n",
       "</table>\n",
       "</div>"
      ],
      "text/plain": [
       "              tweet_id       date    time\n",
       "0  1243388154213588996  2020-3-27  4:3:31\n",
       "1  1243388154385580034  2020-3-27  4:3:31\n",
       "2  1243388154490392577  2020-3-27  4:3:31\n",
       "3  1243388154582716422  2020-3-27  4:3:31\n",
       "4  1243388154737901571  2020-3-27  4:3:31"
      ]
     },
     "execution_count": 31,
     "metadata": {},
     "output_type": "execute_result"
    }
   ],
   "source": [
    "tweet_ids_to_hydrate.head()"
   ]
  },
  {
   "cell_type": "code",
   "execution_count": 32,
   "id": "7c748f4f-b327-4a0c-b534-0f426b7580f3",
   "metadata": {},
   "outputs": [],
   "source": [
    "tweet_ids_to_hydrate[\"tweet_id\"].to_csv(os.path.join(data_root_dir_path, 'tweet_ids_to_hydrate.txt'), sep=',', index=False)"
   ]
  },
  {
   "cell_type": "code",
   "execution_count": 34,
   "id": "20594ab8-288a-4e17-9c92-5ee4a10c36a5",
   "metadata": {},
   "outputs": [],
   "source": [
    "# Using the command line, hydrate the tweet IDs using the \"Twarc\" Python Library  (pip install twarc)\n",
    "# First create a configuration file with all the Twitter API keys (Bearer Token, API key and API secret key) using the command: \"twarc2 configure\" and follow the written instructions.\n",
    "# Full documentation of the Twarc Library at: https://twarc-project.readthedocs.io/en/latest/tutorial/\n",
    "\n",
    "# twarc2 hydrate tweet_ids_to_hydrate.txt > hydrated_tweets.json"
   ]
  },
  {
   "cell_type": "markdown",
   "id": "70dad374-edbc-4931-b21a-590891b1e714",
   "metadata": {},
   "source": [
    "## Load Twitter data containing tweets"
   ]
  },
  {
   "cell_type": "code",
   "execution_count": 3,
   "id": "54ba95762f88e081",
   "metadata": {
    "collapsed": false,
    "jupyter": {
     "outputs_hidden": false
    }
   },
   "outputs": [
    {
     "data": {
      "text/html": [
       "<div>\n",
       "<style scoped>\n",
       "    .dataframe tbody tr th:only-of-type {\n",
       "        vertical-align: middle;\n",
       "    }\n",
       "\n",
       "    .dataframe tbody tr th {\n",
       "        vertical-align: top;\n",
       "    }\n",
       "\n",
       "    .dataframe thead th {\n",
       "        text-align: right;\n",
       "    }\n",
       "</style>\n",
       "<table border=\"1\" class=\"dataframe\">\n",
       "  <thead>\n",
       "    <tr style=\"text-align: right;\">\n",
       "      <th></th>\n",
       "      <th>UserName</th>\n",
       "      <th>ScreenName</th>\n",
       "      <th>Location</th>\n",
       "      <th>TweetAt</th>\n",
       "      <th>OriginalTweet</th>\n",
       "      <th>Sentiment</th>\n",
       "    </tr>\n",
       "  </thead>\n",
       "  <tbody>\n",
       "    <tr>\n",
       "      <th>0</th>\n",
       "      <td>3799</td>\n",
       "      <td>48751</td>\n",
       "      <td>London</td>\n",
       "      <td>16-03-2020</td>\n",
       "      <td>@MeNyrbie @Phil_Gahan @Chrisitv https://t.co/i...</td>\n",
       "      <td>Neutral</td>\n",
       "    </tr>\n",
       "    <tr>\n",
       "      <th>1</th>\n",
       "      <td>3800</td>\n",
       "      <td>48752</td>\n",
       "      <td>UK</td>\n",
       "      <td>16-03-2020</td>\n",
       "      <td>advice Talk to your neighbours family to excha...</td>\n",
       "      <td>Positive</td>\n",
       "    </tr>\n",
       "    <tr>\n",
       "      <th>2</th>\n",
       "      <td>3801</td>\n",
       "      <td>48753</td>\n",
       "      <td>Vagabonds</td>\n",
       "      <td>16-03-2020</td>\n",
       "      <td>Coronavirus Australia: Woolworths to give elde...</td>\n",
       "      <td>Positive</td>\n",
       "    </tr>\n",
       "    <tr>\n",
       "      <th>3</th>\n",
       "      <td>3802</td>\n",
       "      <td>48754</td>\n",
       "      <td>NaN</td>\n",
       "      <td>16-03-2020</td>\n",
       "      <td>My food stock is not the only one which is emp...</td>\n",
       "      <td>Positive</td>\n",
       "    </tr>\n",
       "    <tr>\n",
       "      <th>4</th>\n",
       "      <td>3803</td>\n",
       "      <td>48755</td>\n",
       "      <td>NaN</td>\n",
       "      <td>16-03-2020</td>\n",
       "      <td>Me, ready to go at supermarket during the #COV...</td>\n",
       "      <td>Extremely Negative</td>\n",
       "    </tr>\n",
       "  </tbody>\n",
       "</table>\n",
       "</div>"
      ],
      "text/plain": [
       "   UserName  ScreenName   Location     TweetAt  \\\n",
       "0      3799       48751     London  16-03-2020   \n",
       "1      3800       48752         UK  16-03-2020   \n",
       "2      3801       48753  Vagabonds  16-03-2020   \n",
       "3      3802       48754        NaN  16-03-2020   \n",
       "4      3803       48755        NaN  16-03-2020   \n",
       "\n",
       "                                       OriginalTweet           Sentiment  \n",
       "0  @MeNyrbie @Phil_Gahan @Chrisitv https://t.co/i...             Neutral  \n",
       "1  advice Talk to your neighbours family to excha...            Positive  \n",
       "2  Coronavirus Australia: Woolworths to give elde...            Positive  \n",
       "3  My food stock is not the only one which is emp...            Positive  \n",
       "4  Me, ready to go at supermarket during the #COV...  Extremely Negative  "
      ]
     },
     "execution_count": 3,
     "metadata": {},
     "output_type": "execute_result"
    }
   ],
   "source": [
    "# Dataset was oibtained from https://www.kaggle.com/datasets/datatattle/covid-19-nlp-text-classification/\n",
    "tweets_file_name = os.path.join(data_root_dir_path, \"Corona_NLP_train.csv\")\n",
    "tweets_df = pd.read_csv(tweets_file_name, engine='python', encoding = \"ISO-8859-1\")\n",
    "tweets_df.head()"
   ]
  },
  {
   "cell_type": "markdown",
   "id": "eb3ebf07-b671-42a2-95ae-8974a73cccd3",
   "metadata": {},
   "source": [
    "## Quick text pre-processing "
   ]
  },
  {
   "cell_type": "code",
   "execution_count": 4,
   "id": "f14e5a04-9c92-48d8-8ee7-c2d9e0ed4f4d",
   "metadata": {},
   "outputs": [],
   "source": [
    "extended_stop_wrods = list(stop_words.STOP_WORDS)"
   ]
  },
  {
   "cell_type": "code",
   "execution_count": 5,
   "id": "0e821f91-da04-4e09-b7ca-43966a27d02b",
   "metadata": {},
   "outputs": [],
   "source": [
    "def get_url_patern():\n",
    "    return re.compile(\n",
    "        r'(https?:\\/\\/(?:www\\.|(?!www))[a-zA-Z0-9][a-za-z0-9-]+[a-zA-Z0-9]\\.[^\\s]{2,}|https?:\\/\\/(?:www\\.|(?!www))'\n",
    "        r'[a-zA-Z0-9]\\.[^\\s]{2,}|www\\.[a-zA-Z0-9]\\.[^\\s]{2,})')\n",
    "\n",
    "\n",
    "def get_hashtags_pattern():\n",
    "    return re.compile(r'#\\w+')\n",
    "\n",
    "\n",
    "def get_single_letter_words_pattern():\n",
    "    return re.compile(r'(?<![\\w-])\\w(?![\\w-])')\n",
    "\n",
    "\n",
    "def get_blank_spaces_pattern():\n",
    "    return re.compile(r'\\s{2,}|\\t')\n",
    "\n",
    "\n",
    "def get_twitter_reserved_words_pattern():\n",
    "    return re.compile(r'(RT|rt|FAV|fav|VIA|via)')\n",
    "\n",
    "\n",
    "def get_mentions_pattern():\n",
    "    return re.compile(r'@\\w\\*')\n",
    "\n",
    "\n",
    "def clean_sentence_for_sentiment_analysis(sentence, remove_urls=True, remove_retweets=True, remove_stop_words=False, handle_hashtags=True, remove_short_words=False, remove_punctuation=False,\n",
    "                                          remove_numbers=True, decode_ascii=False, max_text_length=2048):\n",
    "    if remove_urls:\n",
    "        sentence = re.sub(pattern=get_url_patern(), repl=\"\", string=sentence)\n",
    "        sentence = re.sub(r'http\\S+', \"\", sentence)  # remove http links\n",
    "        sentence = re.sub(r'bit.ly/\\S+', \"\", sentence)  # remove bitly links\n",
    "        sentence = sentence.strip('[link]')  # remove [links]\n",
    "    if remove_retweets:\n",
    "        sentence = re.sub(pattern=get_mentions_pattern(), repl=\"\", string=sentence)\n",
    "        sentence = re.sub(pattern=get_twitter_reserved_words_pattern(), repl='', string=sentence)\n",
    "        sentence = re.sub('(RT\\s@[A-Za-z]+[A-Za-z0-9-*]+)', \"\", sentence)  # remove retweet\n",
    "        sentence = re.sub('(@[A-Za-z]+[A-Za-z0-9-_]+)', \"\", sentence)  # remove tweeted at\n",
    "    if remove_numbers:\n",
    "        sentence = re.sub('[0-9]+', ' ', sentence)\n",
    "    if remove_stop_words:\n",
    "        sentence = ' '.join([word for word in sentence.split() if word not in extended_stop_wrods])\n",
    "    if remove_short_words:\n",
    "        sentence = ' '.join([word for word in sentence.split() if (not len(word) <= 2)])# or (word in UNICODE_EMOJI)])\n",
    "    if handle_hashtags:\n",
    "        sentence = preprocess_tweet(sentence, lang=\"en\", demoji=False)\n",
    "    if remove_punctuation:\n",
    "        sentence = sentence.translate(str.maketrans('', '', string.punctuation))  # remove punctuation\n",
    "    if decode_ascii:\n",
    "        sentence=sentence.encode('ascii', 'ignore').decode('ascii')\n",
    "        sentence = sentence.replace(\"\\r\", \"\")\n",
    "    sentence = sentence[0:max_text_length]\n",
    "    sentence = sentence.strip()\n",
    "\n",
    "    clean_sentence = sentence\n",
    "    return clean_sentence"
   ]
  },
  {
   "cell_type": "code",
   "execution_count": 6,
   "id": "dfed51ee-dfb8-48be-b75c-3e3de6669044",
   "metadata": {},
   "outputs": [
    {
     "name": "stdout",
     "output_type": "stream",
     "text": [
      "Number of tweets BEFORE pre-processing 41157\n"
     ]
    }
   ],
   "source": [
    "tweets_df[\"clean_post\"] = tweets_df[\"OriginalTweet\"].apply(lambda x: clean_sentence_for_sentiment_analysis(x,\n",
    "                                                                                                           remove_stop_words=False,\n",
    "                                                                                                           remove_urls=True,\n",
    "                                                                                                           handle_hashtags=True,\n",
    "                                                                                                           remove_retweets=True,\n",
    "                                                                                                           remove_short_words=False,\n",
    "                                                                                                           remove_punctuation=False,\n",
    "                                                                                                           remove_numbers=False,\n",
    "                                                                                                           decode_ascii=True))\n",
    "print(\"Number of tweets BEFORE pre-processing\", len(tweets_df[\"clean_post\"]))"
   ]
  },
  {
   "cell_type": "code",
   "execution_count": 7,
   "id": "0fb12a38-3c45-4a86-89ae-1bd7aebe277e",
   "metadata": {},
   "outputs": [
    {
     "name": "stdout",
     "output_type": "stream",
     "text": [
      "Number of tweets AFTER pre-processing 40596\n"
     ]
    },
    {
     "data": {
      "text/html": [
       "<div>\n",
       "<style scoped>\n",
       "    .dataframe tbody tr th:only-of-type {\n",
       "        vertical-align: middle;\n",
       "    }\n",
       "\n",
       "    .dataframe tbody tr th {\n",
       "        vertical-align: top;\n",
       "    }\n",
       "\n",
       "    .dataframe thead th {\n",
       "        text-align: right;\n",
       "    }\n",
       "</style>\n",
       "<table border=\"1\" class=\"dataframe\">\n",
       "  <thead>\n",
       "    <tr style=\"text-align: right;\">\n",
       "      <th></th>\n",
       "      <th>UserName</th>\n",
       "      <th>ScreenName</th>\n",
       "      <th>Location</th>\n",
       "      <th>TweetAt</th>\n",
       "      <th>OriginalTweet</th>\n",
       "      <th>Sentiment</th>\n",
       "      <th>clean_post</th>\n",
       "    </tr>\n",
       "  </thead>\n",
       "  <tbody>\n",
       "    <tr>\n",
       "      <th>1</th>\n",
       "      <td>3800</td>\n",
       "      <td>48752</td>\n",
       "      <td>UK</td>\n",
       "      <td>16-03-2020</td>\n",
       "      <td>advice Talk to your neighbours family to excha...</td>\n",
       "      <td>Positive</td>\n",
       "      <td>advice Talk to your neighbours family to excha...</td>\n",
       "    </tr>\n",
       "    <tr>\n",
       "      <th>2</th>\n",
       "      <td>3801</td>\n",
       "      <td>48753</td>\n",
       "      <td>Vagabonds</td>\n",
       "      <td>16-03-2020</td>\n",
       "      <td>Coronavirus Australia: Woolworths to give elde...</td>\n",
       "      <td>Positive</td>\n",
       "      <td>Coronavirus Australia: Woolwohs to give elderl...</td>\n",
       "    </tr>\n",
       "    <tr>\n",
       "      <th>3</th>\n",
       "      <td>3802</td>\n",
       "      <td>48754</td>\n",
       "      <td>NaN</td>\n",
       "      <td>16-03-2020</td>\n",
       "      <td>My food stock is not the only one which is emp...</td>\n",
       "      <td>Positive</td>\n",
       "      <td>My food stock is not the only one which is emp...</td>\n",
       "    </tr>\n",
       "    <tr>\n",
       "      <th>4</th>\n",
       "      <td>3803</td>\n",
       "      <td>48755</td>\n",
       "      <td>NaN</td>\n",
       "      <td>16-03-2020</td>\n",
       "      <td>Me, ready to go at supermarket during the #COV...</td>\n",
       "      <td>Extremely Negative</td>\n",
       "      <td>Me, ready to go at supermarket during the hash...</td>\n",
       "    </tr>\n",
       "    <tr>\n",
       "      <th>5</th>\n",
       "      <td>3804</td>\n",
       "      <td>48756</td>\n",
       "      <td>ÃT: 36.319708,-82.363649</td>\n",
       "      <td>16-03-2020</td>\n",
       "      <td>As news of the regionÂs first confirmed COVID...</td>\n",
       "      <td>Positive</td>\n",
       "      <td>As news of the regions first confirmed COVID-1...</td>\n",
       "    </tr>\n",
       "  </tbody>\n",
       "</table>\n",
       "</div>"
      ],
      "text/plain": [
       "   UserName  ScreenName                   Location     TweetAt  \\\n",
       "1      3800       48752                         UK  16-03-2020   \n",
       "2      3801       48753                  Vagabonds  16-03-2020   \n",
       "3      3802       48754                        NaN  16-03-2020   \n",
       "4      3803       48755                        NaN  16-03-2020   \n",
       "5      3804       48756  ÃT: 36.319708,-82.363649  16-03-2020   \n",
       "\n",
       "                                       OriginalTweet           Sentiment  \\\n",
       "1  advice Talk to your neighbours family to excha...            Positive   \n",
       "2  Coronavirus Australia: Woolworths to give elde...            Positive   \n",
       "3  My food stock is not the only one which is emp...            Positive   \n",
       "4  Me, ready to go at supermarket during the #COV...  Extremely Negative   \n",
       "5  As news of the regionÂs first confirmed COVID...            Positive   \n",
       "\n",
       "                                          clean_post  \n",
       "1  advice Talk to your neighbours family to excha...  \n",
       "2  Coronavirus Australia: Woolwohs to give elderl...  \n",
       "3  My food stock is not the only one which is emp...  \n",
       "4  Me, ready to go at supermarket during the hash...  \n",
       "5  As news of the regions first confirmed COVID-1...  "
      ]
     },
     "execution_count": 7,
     "metadata": {},
     "output_type": "execute_result"
    }
   ],
   "source": [
    "tweets_df = tweets_df[tweets_df[\"clean_post\"].str.split().str.len() > 2]\n",
    "tweets_df = tweets_df[tweets_df[\"clean_post\"].str.count('\\?') < 5]\n",
    "print(\"Number of tweets AFTER pre-processing\", len(tweets_df[\"clean_post\"]))\n",
    "tweets_df.head()"
   ]
  },
  {
   "cell_type": "code",
   "execution_count": 8,
   "id": "4cda49ce-30fc-402c-9972-f2c8281ea3da",
   "metadata": {},
   "outputs": [],
   "source": [
    "tweets_df[\"Sentiment\"] = tweets_df[\"Sentiment\"].replace(\"Extremely Negative\", \"Negative\")\n",
    "tweets_df[\"Sentiment\"] = tweets_df[\"Sentiment\"].replace(\"Extremely Positive\", \"Positive\")"
   ]
  },
  {
   "cell_type": "code",
   "execution_count": 9,
   "id": "d696da6f-db57-4601-a59e-e9e77b441a12",
   "metadata": {},
   "outputs": [
    {
     "data": {
      "text/html": [
       "<div>\n",
       "<style scoped>\n",
       "    .dataframe tbody tr th:only-of-type {\n",
       "        vertical-align: middle;\n",
       "    }\n",
       "\n",
       "    .dataframe tbody tr th {\n",
       "        vertical-align: top;\n",
       "    }\n",
       "\n",
       "    .dataframe thead th {\n",
       "        text-align: right;\n",
       "    }\n",
       "</style>\n",
       "<table border=\"1\" class=\"dataframe\">\n",
       "  <thead>\n",
       "    <tr style=\"text-align: right;\">\n",
       "      <th></th>\n",
       "      <th>UserName</th>\n",
       "      <th>ScreenName</th>\n",
       "      <th>Location</th>\n",
       "      <th>TweetAt</th>\n",
       "      <th>OriginalTweet</th>\n",
       "      <th>Sentiment</th>\n",
       "      <th>clean_post</th>\n",
       "    </tr>\n",
       "  </thead>\n",
       "  <tbody>\n",
       "    <tr>\n",
       "      <th>1</th>\n",
       "      <td>3800</td>\n",
       "      <td>48752</td>\n",
       "      <td>UK</td>\n",
       "      <td>16-03-2020</td>\n",
       "      <td>advice Talk to your neighbours family to excha...</td>\n",
       "      <td>Positive</td>\n",
       "      <td>advice Talk to your neighbours family to excha...</td>\n",
       "    </tr>\n",
       "    <tr>\n",
       "      <th>2</th>\n",
       "      <td>3801</td>\n",
       "      <td>48753</td>\n",
       "      <td>Vagabonds</td>\n",
       "      <td>16-03-2020</td>\n",
       "      <td>Coronavirus Australia: Woolworths to give elde...</td>\n",
       "      <td>Positive</td>\n",
       "      <td>Coronavirus Australia: Woolwohs to give elderl...</td>\n",
       "    </tr>\n",
       "    <tr>\n",
       "      <th>3</th>\n",
       "      <td>3802</td>\n",
       "      <td>48754</td>\n",
       "      <td>NaN</td>\n",
       "      <td>16-03-2020</td>\n",
       "      <td>My food stock is not the only one which is emp...</td>\n",
       "      <td>Positive</td>\n",
       "      <td>My food stock is not the only one which is emp...</td>\n",
       "    </tr>\n",
       "    <tr>\n",
       "      <th>4</th>\n",
       "      <td>3803</td>\n",
       "      <td>48755</td>\n",
       "      <td>NaN</td>\n",
       "      <td>16-03-2020</td>\n",
       "      <td>Me, ready to go at supermarket during the #COV...</td>\n",
       "      <td>Negative</td>\n",
       "      <td>Me, ready to go at supermarket during the hash...</td>\n",
       "    </tr>\n",
       "    <tr>\n",
       "      <th>5</th>\n",
       "      <td>3804</td>\n",
       "      <td>48756</td>\n",
       "      <td>ÃT: 36.319708,-82.363649</td>\n",
       "      <td>16-03-2020</td>\n",
       "      <td>As news of the regionÂs first confirmed COVID...</td>\n",
       "      <td>Positive</td>\n",
       "      <td>As news of the regions first confirmed COVID-1...</td>\n",
       "    </tr>\n",
       "  </tbody>\n",
       "</table>\n",
       "</div>"
      ],
      "text/plain": [
       "   UserName  ScreenName                   Location     TweetAt  \\\n",
       "1      3800       48752                         UK  16-03-2020   \n",
       "2      3801       48753                  Vagabonds  16-03-2020   \n",
       "3      3802       48754                        NaN  16-03-2020   \n",
       "4      3803       48755                        NaN  16-03-2020   \n",
       "5      3804       48756  ÃT: 36.319708,-82.363649  16-03-2020   \n",
       "\n",
       "                                       OriginalTweet Sentiment  \\\n",
       "1  advice Talk to your neighbours family to excha...  Positive   \n",
       "2  Coronavirus Australia: Woolworths to give elde...  Positive   \n",
       "3  My food stock is not the only one which is emp...  Positive   \n",
       "4  Me, ready to go at supermarket during the #COV...  Negative   \n",
       "5  As news of the regionÂs first confirmed COVID...  Positive   \n",
       "\n",
       "                                          clean_post  \n",
       "1  advice Talk to your neighbours family to excha...  \n",
       "2  Coronavirus Australia: Woolwohs to give elderl...  \n",
       "3  My food stock is not the only one which is emp...  \n",
       "4  Me, ready to go at supermarket during the hash...  \n",
       "5  As news of the regions first confirmed COVID-1...  "
      ]
     },
     "execution_count": 9,
     "metadata": {},
     "output_type": "execute_result"
    }
   ],
   "source": [
    "tweets_df.head()"
   ]
  },
  {
   "cell_type": "markdown",
   "id": "ca668ce3-d593-48ba-bf64-ef48ebae7fb6",
   "metadata": {},
   "source": [
    "## Save processed dataset"
   ]
  },
  {
   "cell_type": "code",
   "execution_count": 11,
   "id": "d4a8f547-24f1-46ff-bccf-abd4382370fd",
   "metadata": {},
   "outputs": [
    {
     "name": "stdout",
     "output_type": "stream",
     "text": [
      "Finished!\n"
     ]
    }
   ],
   "source": [
    "tweets_df.to_csv(os.path.join(data_root_dir_path, \"./Corona_NLP_train_clean.csv\"), index=False)\n",
    "print(\"Finished!\")"
   ]
  },
  {
   "cell_type": "code",
   "execution_count": null,
   "id": "7edd369c-2fda-4c66-b81f-238f61b3cd38",
   "metadata": {},
   "outputs": [],
   "source": []
  }
 ],
 "metadata": {
  "kernelspec": {
   "display_name": "Python 3 (ipykernel)",
   "language": "python",
   "name": "python3"
  },
  "language_info": {
   "codemirror_mode": {
    "name": "ipython",
    "version": 3
   },
   "file_extension": ".py",
   "mimetype": "text/x-python",
   "name": "python",
   "nbconvert_exporter": "python",
   "pygments_lexer": "ipython3",
   "version": "3.8.16"
  }
 },
 "nbformat": 4,
 "nbformat_minor": 5
}
